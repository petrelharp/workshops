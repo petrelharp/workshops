{
 "cells": [
  {
   "cell_type": "markdown",
   "metadata": {
    "slideshow": {
     "slide_type": "slide"
    }
   },
   "source": [
    "# Introduction to using stdpopsim"
   ]
  },
  {
   "cell_type": "markdown",
   "metadata": {},
   "source": [
    "## Workshop Outline\n",
    "1. Basics of using Jupyter Notebooks\n",
    "2. Overview of stdpopsim\n",
    "3. How to use the Python API\n",
    "4. How to use the command line interface\n",
    "5. Example analysis\n",
    "6. How to ask for help\n",
    "7. Some examples of what stdpopsim cannot currently do\n",
    "8. Teaser of how to contribute\n",
    "9. Using stdpopsim after the workshop  \n",
    "10. How to Navigate the stdpopsim library catalog"
   ]
  },
  {
   "cell_type": "markdown",
   "metadata": {},
   "source": [
    "----------\n",
    "## 1. Basics of using Jupyter Notebooks"
   ]
  },
  {
   "cell_type": "markdown",
   "metadata": {},
   "source": [
    "Jupyter Notebooks have cells where you can write in Markdown and run code.  \n",
    "To execute a cell, click the run button or press shift enter."
   ]
  },
  {
   "cell_type": "code",
   "execution_count": null,
   "metadata": {},
   "outputs": [],
   "source": [
    "print('Try writing some Python here')"
   ]
  },
  {
   "cell_type": "code",
   "execution_count": null,
   "metadata": {},
   "outputs": [],
   "source": [
    "%%bash\n",
    "echo 'We can also use Bash magic. Try writing some Bash here'"
   ]
  },
  {
   "cell_type": "markdown",
   "metadata": {},
   "source": [
    "---------\n",
    "## 2. Overview of stdpopsim"
   ]
  },
  {
   "cell_type": "markdown",
   "metadata": {},
   "source": [
    "### What is stdpopsim?\n",
    "- Library of previously published population genetic models that can be used to simulate data\n",
    "- Includes simple & complex demographic models\n",
    "- Models have undergone rigorous quality control to ensure what we implement matches the original publication"
   ]
  },
  {
   "cell_type": "markdown",
   "metadata": {},
   "source": [
    "### Why is stdpopsim useful?\n",
    "- Increase reproducibility in population genetics modeling\n",
    "- Less work for simulating data to test new inference methods\n",
    "- Facilitate comparisons among inference methods"
   ]
  },
  {
   "cell_type": "markdown",
   "metadata": {},
   "source": [
    "### Phase 1\n",
    "Adrion et al. (2020). _A community-maintained standard library of population genetic models_. eLife. https://doi.org/10.7554/eLife.54967\n",
    "\n",
    "- Focused just on demographic modeling\n",
    "- Uses msprime as simulation engine\n",
    "- Realistic genetic maps for each species"
   ]
  },
  {
   "cell_type": "markdown",
   "metadata": {},
   "source": [
    "### How to use stdpopsim\n",
    "- Python API\n",
    "  - more flexible\n",
    "  - access to tskit functionality\n",
    "  - faster for more replicates\n",
    "- command line interface\n",
    "  - one-liner\n",
    "  - nice for people familiar with command line\n",
    "  - easy to put into a bigger workflow"
   ]
  },
  {
   "cell_type": "markdown",
   "metadata": {},
   "source": [
    "---------------\n",
    "## 3. How to use the Python API"
   ]
  },
  {
   "cell_type": "markdown",
   "metadata": {},
   "source": [
    "### Import the stdpopsim package"
   ]
  },
  {
   "cell_type": "code",
   "execution_count": null,
   "metadata": {},
   "outputs": [],
   "source": [
    "import #fill me"
   ]
  },
  {
   "cell_type": "markdown",
   "metadata": {},
   "source": [
    "### Open the catalog page"
   ]
  },
  {
   "cell_type": "markdown",
   "metadata": {},
   "source": [
    "Resources:\n",
    "- [Catalog](https://stdpopsim.readthedocs.io/en/stable/catalog.html#)\n",
    "- [Documentation](https://stdpopsim.readthedocs.io/en/stable/api.html)\n",
    "- [Tutorials](https://stdpopsim.readthedocs.io/en/stable/tutorial.html#running-stdpopsim-with-the-python-interface-api)"
   ]
  },
  {
   "cell_type": "markdown",
   "metadata": {},
   "source": [
    "### Which species?\n",
    "\n",
    "Let's simulate humans.\n",
    "\n",
    "_Use the [catalog](https://stdpopsim.readthedocs.io/en/stable/catalog.html#) to find available species_\n",
    "\n",
    "https://stdpopsim.readthedocs.io/en/stable/api.html#stdpopsim.get_species"
   ]
  },
  {
   "cell_type": "code",
   "execution_count": null,
   "metadata": {},
   "outputs": [],
   "source": [
    "species = stdpopsim.get_species(\"\") #fill me"
   ]
  },
  {
   "cell_type": "markdown",
   "metadata": {},
   "source": [
    "### Which chromosome?\n",
    "\n",
    "We'll simulate a region that is 10% of the length of chromosome 22.\n",
    "\n",
    "Find what chromosomes are available in the [catalog](https://stdpopsim.readthedocs.io/en/stable/catalog.html#)\n",
    "\n",
    "https://stdpopsim.readthedocs.io/en/stable/api.html#stdpopsim.Species.get_contig"
   ]
  },
  {
   "cell_type": "code",
   "execution_count": null,
   "metadata": {},
   "outputs": [],
   "source": [
    "contig = species.get_contig(\"\", length_multiplier=) #fill me"
   ]
  },
  {
   "cell_type": "markdown",
   "metadata": {},
   "source": [
    "Using a *real* genetic map: (cannot be used in conjunction with `length_multiplier`)"
   ]
  },
  {
   "cell_type": "code",
   "execution_count": null,
   "metadata": {},
   "outputs": [],
   "source": [
    "#contig = species.get_contig(\"chr22\", genetic_map=\"HapMapII_GRCh37\")"
   ]
  },
  {
   "cell_type": "markdown",
   "metadata": {},
   "source": [
    "Using an alternative mutation or recombination rate:"
   ]
  },
  {
   "cell_type": "code",
   "execution_count": null,
   "metadata": {},
   "outputs": [],
   "source": [
    "# other_contig = stdpopsim.Contig(\n",
    "#     mutation_rate=contig.mutation_rate*0.5,\n",
    "#     recombination_map=contig.recombination_map\n",
    "# )"
   ]
  },
  {
   "cell_type": "markdown",
   "metadata": {},
   "source": [
    "\n",
    "\n",
    "### Which demographic model?\n",
    "https://stdpopsim.readthedocs.io/en/stable/api.html#stdpopsim.DemographicModel"
   ]
  },
  {
   "cell_type": "markdown",
   "metadata": {},
   "source": [
    "Use the [catalog](https://stdpopsim.readthedocs.io/en/stable/catalog.html#) to find available demographic models.\n",
    "You can also see them in the `species` object you just created:"
   ]
  },
  {
   "cell_type": "code",
   "execution_count": null,
   "metadata": {},
   "outputs": [],
   "source": [
    "for model in species.demographic_models:\n",
    "    print(model.id)"
   ]
  },
  {
   "cell_type": "markdown",
   "metadata": {},
   "source": [
    "Then set your demographic model.\n",
    "https://stdpopsim.readthedocs.io/en/stable/api.html#stdpopsim.Species.get_demographic_model"
   ]
  },
  {
   "cell_type": "code",
   "execution_count": null,
   "metadata": {},
   "outputs": [],
   "source": [
    "model = species.get_demographic_model('') #fill me"
   ]
  },
  {
   "cell_type": "markdown",
   "metadata": {},
   "source": [
    "You may want to verify that the simulated populations are correct."
   ]
  },
  {
   "cell_type": "code",
   "execution_count": null,
   "metadata": {},
   "outputs": [],
   "source": [
    "print([pop.id for pop in model.populations])"
   ]
  },
  {
   "cell_type": "markdown",
   "metadata": {},
   "source": [
    "### How many samples?"
   ]
  },
  {
   "cell_type": "code",
   "execution_count": null,
   "metadata": {},
   "outputs": [],
   "source": [
    "samples = model.get_samples() #fill me"
   ]
  },
  {
   "cell_type": "markdown",
   "metadata": {},
   "source": [
    "### Which simulator?\n",
    "https://stdpopsim.readthedocs.io/en/stable/api.html#simulation-engines"
   ]
  },
  {
   "cell_type": "code",
   "execution_count": null,
   "metadata": {},
   "outputs": [],
   "source": [
    "engine = stdpopsim.get_engine('') #fill me"
   ]
  },
  {
   "cell_type": "markdown",
   "metadata": {},
   "source": [
    "We're now ready to simulate:\n",
    "https://stdpopsim.readthedocs.io/en/stable/api.html#stdpopsim.Engine.simulate"
   ]
  },
  {
   "cell_type": "code",
   "execution_count": null,
   "metadata": {},
   "outputs": [],
   "source": [
    "%%time\n",
    "ts = engine.simulate(, seed=1) #fill me"
   ]
  },
  {
   "cell_type": "markdown",
   "metadata": {},
   "source": [
    "## Output\n",
    "### to a tree sequence file"
   ]
  },
  {
   "cell_type": "code",
   "execution_count": null,
   "metadata": {},
   "outputs": [],
   "source": [
    "ts.dump(\"OutOfAfrica_3G09_API.ts\")"
   ]
  },
  {
   "cell_type": "markdown",
   "metadata": {},
   "source": [
    "### to a vcf file"
   ]
  },
  {
   "cell_type": "code",
   "execution_count": null,
   "metadata": {},
   "outputs": [],
   "source": [
    "with open(\"OutOfAfrica_3G09_API.vcf\", \"w\") as vcf_file:\n",
    "    ts.write_vcf(vcf_file, contig_id='22', ploidy=2)"
   ]
  },
  {
   "cell_type": "markdown",
   "metadata": {},
   "source": [
    "Let's take a look at our vcf:"
   ]
  },
  {
   "cell_type": "code",
   "execution_count": null,
   "metadata": {},
   "outputs": [],
   "source": [
    "%%bash\n",
    "ls"
   ]
  },
  {
   "cell_type": "code",
   "execution_count": null,
   "metadata": {},
   "outputs": [],
   "source": [
    "%%bash\n",
    "head OutOfAfrica_3G09_API.vcf"
   ]
  },
  {
   "cell_type": "markdown",
   "metadata": {},
   "source": [
    "### All together now!"
   ]
  },
  {
   "cell_type": "code",
   "execution_count": null,
   "metadata": {},
   "outputs": [],
   "source": [
    "import stdpopsim\n",
    "species = stdpopsim.get_species(\"\") #fill me\n",
    "model = species.get_demographic_model('') #fill me\n",
    "samples = model.get_samples() #fill me\n",
    "engine = stdpopsim.get_engine('') #fill me\n",
    "contig = species.get_contig(\"\", length_multiplier=) #fill me\n",
    "ts = engine.simulate() #fill me\n",
    "ts.dump(\"OutOfAfrica_3G09_API.trees\")\n",
    "with open(\"OutOfAfrica_3G09_API.vcf\", \"w\") as vcf_file:\n",
    "    ts.write_vcf(vcf_file, contig_id='22', ploidy=2)"
   ]
  },
  {
   "cell_type": "markdown",
   "metadata": {},
   "source": [
    "### _Try to simulate the Arabidopsis South Middle Atlas piecewise constant size model!_"
   ]
  },
  {
   "cell_type": "code",
   "execution_count": null,
   "metadata": {},
   "outputs": [],
   "source": [
    "species = stdpopsim.get_species(\"\") #fill me!\n",
    "model = species.get_demographic_model('') #fill me!\n",
    "samples = model.get_samples() #fill me!\n",
    "engine = stdpopsim.get_engine('msprime')\n",
    "contig = species.get_contig(\"\", length_multiplier=0.1) #fill me!\n",
    "ts = engine.simulate(model, contig, samples)"
   ]
  },
  {
   "cell_type": "markdown",
   "metadata": {},
   "source": [
    "### Questions?"
   ]
  },
  {
   "cell_type": "markdown",
   "metadata": {},
   "source": [
    "---------------\n",
    "## 4. How to use the command line interface\n",
    "Resources:\n",
    "- [Documentation](https://stdpopsim.readthedocs.io/en/stable/cli_arguments.html)\n",
    "- [Tutorials](https://stdpopsim.readthedocs.io/en/stable/tutorial.html#running-stdpopsim-with-the-command-line-interface-cli)"
   ]
  },
  {
   "cell_type": "markdown",
   "metadata": {},
   "source": [
    "### Run stdpopsim with the help option"
   ]
  },
  {
   "cell_type": "code",
   "execution_count": null,
   "metadata": {},
   "outputs": [],
   "source": [
    "%%bash\n",
    "stdpopsim #fill me"
   ]
  },
  {
   "cell_type": "markdown",
   "metadata": {},
   "source": [
    "`stdpopsim` uses a combination of [_positional arguments_](https://stdpopsim.readthedocs.io/en/stable/cli_arguments.html#Positional%20Arguments), which are required, and [_named arguments_](https://stdpopsim.readthedocs.io/en/stable/cli_arguments.html#Named%20Arguments), which are optional."
   ]
  },
  {
   "cell_type": "markdown",
   "metadata": {},
   "source": [
    "### Find your species and run stdpopsim with that species with the help option"
   ]
  },
  {
   "cell_type": "code",
   "execution_count": null,
   "metadata": {},
   "outputs": [],
   "source": [
    "%%bash\n",
    "stdpopsim # fill me"
   ]
  },
  {
   "cell_type": "markdown",
   "metadata": {},
   "source": [
    "### Find your model and run stdpopsim with that model with the help option"
   ]
  },
  {
   "cell_type": "code",
   "execution_count": null,
   "metadata": {},
   "outputs": [],
   "source": [
    "%%bash\n",
    "stdpopsim # fill me"
   ]
  },
  {
   "cell_type": "markdown",
   "metadata": {},
   "source": [
    "## Run a simulation\n",
    "- pick the number of samples for each population\n",
    "- pick a chromosome\n",
    "- do you want a fraction of the chromosome?\n",
    "- decide on an output file"
   ]
  },
  {
   "cell_type": "markdown",
   "metadata": {},
   "source": [
    "Let's do a dry run first by using `-D`."
   ]
  },
  {
   "cell_type": "code",
   "execution_count": null,
   "metadata": {},
   "outputs": [],
   "source": [
    "%%bash\n",
    "# fill me\n",
    "stdpopsim \\\n",
    "    --demographic-model \\\n",
    "    --chromosome \\\n",
    "    --length-multiplier \\\n",
    "    --output OutOfAfrica_3G09_CLI.ts \\\n",
    "    -D "
   ]
  },
  {
   "cell_type": "markdown",
   "metadata": {},
   "source": [
    "Does that look right? If so, let's do the simulation!"
   ]
  },
  {
   "cell_type": "code",
   "execution_count": null,
   "metadata": {},
   "outputs": [],
   "source": [
    "%%bash\n",
    "# fill me\n",
    "stdpopsim \\\n",
    "    --demographic-model \\\n",
    "    --chromosome \\\n",
    "    --length-multiplier \\\n",
    "    --output OutOfAfrica_3G09_CLI.ts"
   ]
  },
  {
   "cell_type": "code",
   "execution_count": null,
   "metadata": {},
   "outputs": [],
   "source": [
    "%%bash\n",
    "tskit vcf --ploidy 2 OutOfAfrica_3G09_CLI.ts > OutOfAfrica_3G09_CLI.vcf"
   ]
  },
  {
   "cell_type": "markdown",
   "metadata": {},
   "source": [
    "Let's take a look at our vcf."
   ]
  },
  {
   "cell_type": "code",
   "execution_count": null,
   "metadata": {},
   "outputs": [],
   "source": [
    "%%bash\n",
    "ls"
   ]
  },
  {
   "cell_type": "code",
   "execution_count": null,
   "metadata": {},
   "outputs": [],
   "source": [
    "%%bash\n",
    "head OutOfAfrica_3G09_CLI.vcf"
   ]
  },
  {
   "cell_type": "markdown",
   "metadata": {},
   "source": [
    "### _Try to simulate the Arabidopsis South Middle Atlas piecewise constant size model!_\n",
    "\n",
    "Bonus: from the `--help` output, can you see how you might use one of the published genetic maps in this simulation? (perhaps the *SalomeAveraged_TAIR7* map?)"
   ]
  },
  {
   "cell_type": "code",
   "execution_count": null,
   "metadata": {},
   "outputs": [],
   "source": [
    "%%bash\n",
    "stdpopsim #fill me!"
   ]
  },
  {
   "cell_type": "markdown",
   "metadata": {},
   "source": [
    "### Questions?"
   ]
  },
  {
   "cell_type": "markdown",
   "metadata": {},
   "source": [
    "-------------\n",
    "## 5. Example analysis\n",
    "Let's suppose we wanted to check if a published model is a good approximation of our real data. To do this, we'll calculate a few population genetics statistics and see if the real data overlap our simulated data. (For this exercise we will assume some value for the stats from the real data).\n"
   ]
  },
  {
   "cell_type": "markdown",
   "metadata": {},
   "source": [
    "### Our pretend real data\n",
    "Let's say we have samples from three human populations, and they have a mean genetic diversity of: 0.00045, 0.00029, 0.00027."
   ]
  },
  {
   "cell_type": "code",
   "execution_count": null,
   "metadata": {},
   "outputs": [],
   "source": [
    "piA = 0.00045\n",
    "piB = 0.00029\n",
    "piC = 0.00027"
   ]
  },
  {
   "cell_type": "markdown",
   "metadata": {},
   "source": [
    "### Simulate a model to compare to real data and calculate stats\n",
    "\n",
    "We'll simulate the human Three population out-of-Africa _n_ times.  \n",
    "\n",
    "_Find this model in the catalog._  \n",
    "_How many populations are there?_  \n",
    "_How many samples do we want to simulate?_  \n",
    "_What chromosome do we want to simulate?_  \n",
    "_Do we want to reduce the chromosome size?_"
   ]
  },
  {
   "cell_type": "markdown",
   "metadata": {},
   "source": [
    "#### Set up the simulation"
   ]
  },
  {
   "cell_type": "code",
   "execution_count": null,
   "metadata": {},
   "outputs": [],
   "source": [
    "import stdpopsim\n",
    "species = stdpopsim.get_species(\"\") #fill me\n",
    "model = species.get_demographic_model('') #fill me\n",
    "samples = model.get_samples() #fill me\n",
    "engine = stdpopsim.get_engine('') #fill me\n",
    "contig = species.get_contig(\"\", length_multiplier=) #fill me"
   ]
  },
  {
   "cell_type": "markdown",
   "metadata": {},
   "source": [
    "#### Simulation and calculate the stats in a for loop"
   ]
  },
  {
   "cell_type": "markdown",
   "metadata": {},
   "source": [
    "Make a list of sample chromosomes (nodes) from each population"
   ]
  },
  {
   "cell_type": "code",
   "execution_count": null,
   "metadata": {},
   "outputs": [],
   "source": [
    "def make_sample_list(ts):\n",
    "    sample_list = []\n",
    "    for pop in range(0, ts.num_populations):\n",
    "        sample_list.append(ts.samples(pop).tolist())\n",
    "    return sample_list"
   ]
  },
  {
   "cell_type": "markdown",
   "metadata": {},
   "source": [
    "Run the simulations and calculate the summary statistics"
   ]
  },
  {
   "cell_type": "code",
   "execution_count": null,
   "metadata": {},
   "outputs": [],
   "source": [
    "%%time\n",
    "from progressbar import ProgressBar #This is just to get a progress bar\n",
    "pbar = ProgressBar() #This is just to get a progress bar\n",
    "\n",
    "n = 50\n",
    "pi_list = []\n",
    "for i in pbar(range(n)):\n",
    "    ts = engine.simulate() #fill me\n",
    "    sample_list = make_sample_list(ts)\n",
    "    pi_list.append(ts.diversity(sample_sets=sample_list))\n",
    "print('Done simulating {} replicates!'.format(n))"
   ]
  },
  {
   "cell_type": "markdown",
   "metadata": {},
   "source": [
    "### Plot stats from simulated and \"real\" data"
   ]
  },
  {
   "cell_type": "markdown",
   "metadata": {},
   "source": [
    "Convert simulated stats to a dataframe (only dataframes are easy to work with), then lets look at the first couple of lines using `head()`"
   ]
  },
  {
   "cell_type": "code",
   "execution_count": null,
   "metadata": {},
   "outputs": [],
   "source": [
    "import pandas as pd\n",
    "pi_df = pd.DataFrame(\n",
    "    data=pi_list, columns=[pop.id for pop in model.populations])\n",
    "pi_df.head()"
   ]
  },
  {
   "cell_type": "code",
   "execution_count": null,
   "metadata": {},
   "outputs": [],
   "source": [
    "pi_df_melted = pd.melt(pi_df, var_name='Pops', value_name='Pi')"
   ]
  },
  {
   "cell_type": "markdown",
   "metadata": {},
   "source": [
    "## Plot data"
   ]
  },
  {
   "cell_type": "code",
   "execution_count": null,
   "metadata": {},
   "outputs": [],
   "source": [
    "import seaborn as sns\n",
    "import matplotlib.pyplot as plt\n",
    "ax = sns.histplot(data=pi_df_melted, x=\"Pi\", hue=\"Pops\", bins=30)\n",
    "ax.axvline(x=piA, color='blue')\n",
    "ax.axvline(x=piB, color='orange')\n",
    "ax.axvline(x=piC, color='green')"
   ]
  },
  {
   "cell_type": "markdown",
   "metadata": {},
   "source": [
    "## A PCA example using scikit-allel\n",
    "Quick look at using stdpopsim together with scikit-allel to examine PCA of genetic variation from simulations.\n",
    "\n",
    "First we set the model:"
   ]
  },
  {
   "cell_type": "code",
   "execution_count": null,
   "metadata": {},
   "outputs": [],
   "source": [
    "import allel\n",
    "import stdpopsim\n",
    "\n",
    "species = stdpopsim.get_species(\"\") #fill me\n",
    "model = species.get_demographic_model('') #fill me\n",
    "samples = model.get_samples() #fill me\n",
    "engine = stdpopsim.get_engine('') #fill me\n",
    "contig = species.get_contig(\"\", length_multiplier=) #fill me"
   ]
  },
  {
   "cell_type": "markdown",
   "metadata": {},
   "source": [
    "next we will simulate and use tools from scikit-allel to go from tree sequences to genotypes. we'll output the first few rows of the genotype array produced by allel"
   ]
  },
  {
   "cell_type": "code",
   "execution_count": null,
   "metadata": {},
   "outputs": [],
   "source": [
    "ts = engine.simulate(model, contig, samples)\n",
    "haps = allel.HaplotypeArray(ts.genotype_matrix())\n",
    "gns = haps.to_genotypes(ploidy=2)\n",
    "gns"
   ]
  },
  {
   "cell_type": "markdown",
   "metadata": {},
   "source": [
    "now we're ready to do PCA. we'll do the decomposition and then plot, note that allel requires a flattened version of the genotype array above that codes individual genotypes as 0/1/2 according to the number of reference alleles"
   ]
  },
  {
   "cell_type": "code",
   "execution_count": null,
   "metadata": {},
   "outputs": [],
   "source": [
    "\n",
    "def plot_pca_coords(coords, fitted, pc1, pc2, ax):\n",
    "    x = coords[:, pc1]\n",
    "    y = coords[:, pc2]\n",
    "    ax.plot(x[0:25], y[0:25], marker='o', linestyle=' ', label='YRI', markersize=6)\n",
    "    ax.plot(x[25:50], y[25:50], marker='o', linestyle=' ', label='CEU', markersize=6)\n",
    "    ax.plot(x[50:75], y[50:75], marker='o', linestyle=' ', label='CHB', markersize=6)\n",
    "\n",
    "    ax.set_xlabel('PC%s (%.1f%%)' % (pc1+1, fitted.explained_variance_ratio_[pc1]*100))\n",
    "    ax.set_ylabel('PC%s (%.1f%%)' % (pc2+1, fitted.explained_variance_ratio_[pc2]*100))\n",
    "\n",
    "\n",
    "fig, ax = plt.subplots(figsize=(6, 6))\n",
    "sns.despine(ax=ax, offset=10)\n",
    "\n",
    "coords, fitted = allel.pca(gns.to_n_ref())\n",
    "plot_pca_coords(coords, fitted, 0, 1, ax)\n",
    "ax.legend()\n",
    "\n"
   ]
  },
  {
   "cell_type": "markdown",
   "metadata": {},
   "source": [
    "### Questions?"
   ]
  },
  {
   "cell_type": "markdown",
   "metadata": {},
   "source": [
    "---------\n",
    "## 6. How to ask for help\n",
    "- Have you read the [documentation](https://stdpopsim.readthedocs.io/en/stable/index.html)?\n",
    "- Search open and closed [GitHub issues](https://github.com/popsim-consortium/stdpopsim/issues?q=is%3Aissue)\n",
    "- Write a new [GitHub issue](https://github.com/popsim-consortium/stdpopsim/issues/new/choose)\n",
    "- Join the PopSim Slack workspace and post in the #newbie-help channel (An invitation has been sent to all participants. If you have not recieved an invitation, email Ariella, Andy, or Peter)"
   ]
  },
  {
   "cell_type": "markdown",
   "metadata": {},
   "source": [
    "---------\n",
    "## 7. Some examples of what stdpopsim cannot currently do\n",
    "- simulate species or demographic models that are not in the catalog \n",
    "    - if you want to do this, if it is a published model - submit it to stdpopsim, if it is not a published model, use a simulator (e.g. msprime, slim)\n",
    "- simulate parameter values not from the published model (including priors)\n",
    "- simulate selection (in the works!)\n",
    "- simulate missing data and errors (on the horizon!)\n"
   ]
  },
  {
   "cell_type": "markdown",
   "metadata": {},
   "source": [
    "----------\n",
    "## 8. Teaser of [how to contribute](https://stdpopsim.readthedocs.io/en/stable/development.html#)\n",
    "\n",
    "- Write [GitHub issues](https://github.com/popsim-consortium/stdpopsim/issues/new/choose)!\n",
    "- [Add new species](https://stdpopsim.readthedocs.io/en/stable/development.html#adding-a-new-species)\n",
    "- [Add new demographic models](https://stdpopsim.readthedocs.io/en/stable/development.html#adding-a-new-demographic-model)\n",
    "- Help with Documentation and tutorials"
   ]
  },
  {
   "cell_type": "markdown",
   "metadata": {},
   "source": [
    "-----------\n",
    "## 9. Using stdpopsim on your own after the workshop\n",
    "- Play in a Jupyter Notebook Binder\n",
    "  - Using this one [![Binder](https://mybinder.org/badge_logo.svg)](https://mybinder.org/v2/gh/popsim-consortium/workshops.git/main?filepath=intro_stdpopsim%2FIntro_stdpopsim.ipynb)\n",
    "  - In the Binder associated with the [stdpopsim GitHub repository](https://github.com/popsim-consortium/stdpopsim) [![Binder](https://mybinder.org/badge_logo.svg)](https://mybinder.org/v2/gh/popsim-consortium/stdpopsim/master?filepath=stdpopsim_example.ipynb)\n",
    "- Install stdpopsim locally following the [instructions in the documentation](https://stdpopsim.readthedocs.io/en/stable/installation.html)\n",
    "- Consult the [stdpopsim documentation](https://stdpopsim.readthedocs.io/en/stable/installation.html)"
   ]
  },
  {
   "cell_type": "markdown",
   "metadata": {},
   "source": [
    "---------\n",
    "## 10. How to Navigate the [stdpopsim library catalog](https://stdpopsim.readthedocs.io/en/stable/catalog.html)\n",
    "\n",
    "### The Catalog is organized first by species.\n",
    "\n",
    "_How many species are there?_\n",
    "\n",
    "![](images/catalog.png)\n"
   ]
  },
  {
   "cell_type": "markdown",
   "metadata": {},
   "source": [
    "### Each species has a set of defining attributes. \n",
    "\n",
    "_What are the attributes?_\n",
    "\n",
    "![](images/species_attributes.png)"
   ]
  },
  {
   "cell_type": "code",
   "execution_count": null,
   "metadata": {},
   "outputs": [],
   "source": [
    "import allel\n",
    "import stdpopsim\n",
    "\n",
    "species = stdpopsim.get_species(\"HomSap\")\n",
    "model = species.get_demographic_model('OutOfAfrica_3G09')\n",
    "samples = model.get_samples(50, 50, 50)\n",
    "engine = stdpopsim.get_engine('msprime')\n",
    "contig = species.get_contig(\"chr22\", length_multiplier=0.1)"
   ]
  },
  {
   "cell_type": "markdown",
   "metadata": {},
   "source": [
    "next we will simulate and use tools from scikit-allel to go from tree sequences to genotypes. we'll output the first few rows of the genotype array produced by allel"
   ]
  },
  {
   "cell_type": "code",
   "execution_count": null,
   "metadata": {},
   "outputs": [],
   "source": [
    "ts = engine.simulate(model, contig, samples)\n",
    "haps = allel.HaplotypeArray(ts.genotype_matrix())\n",
    "gns = haps.to_genotypes(ploidy=2)\n",
    "gns"
   ]
  },
  {
   "cell_type": "markdown",
   "metadata": {},
   "source": [
    "now we're ready to do PCA. we'll do the decomposition and then plot, note that allel requires a flattened version of the genotype array above that codes individual genotypes as 0/1/2 according to the number of reference alleles"
   ]
  },
  {
   "cell_type": "code",
   "execution_count": null,
   "metadata": {},
   "outputs": [],
   "source": [
    "\n",
    "def plot_pca_coords(coords, fitted, pc1, pc2, ax):\n",
    "    x = coords[:, pc1]\n",
    "    y = coords[:, pc2]\n",
    "    ax.plot(x[0:25], y[0:25], marker='o', linestyle=' ', label='YRI', markersize=6)\n",
    "    ax.plot(x[25:50], y[25:50], marker='o', linestyle=' ', label='CEU', markersize=6)\n",
    "    ax.plot(x[50:75], y[50:75], marker='o', linestyle=' ', label='CHB', markersize=6)\n",
    "\n",
    "    ax.set_xlabel('PC%s (%.1f%%)' % (pc1+1, fitted.explained_variance_ratio_[pc1]*100))\n",
    "    ax.set_ylabel('PC%s (%.1f%%)' % (pc2+1, fitted.explained_variance_ratio_[pc2]*100))\n",
    "\n",
    "\n",
    "fig, ax = plt.subplots(figsize=(6, 6))\n",
    "sns.despine(ax=ax, offset=10)\n",
    "\n",
    "coords, fitted = allel.pca(gns.to_n_ref())\n",
    "plot_pca_coords(coords, fitted, 0, 1, ax)\n",
    "ax.legend()\n",
    "\n"
   ]
  },
  {
   "cell_type": "markdown",
   "metadata": {},
   "source": [
    "### Questions?"
   ]
  },
  {
   "cell_type": "markdown",
   "metadata": {},
   "source": [
    "---------\n",
    "## 6. How to ask for help\n",
    "- Have you read the [documentation](https://stdpopsim.readthedocs.io/en/stable/index.html)?\n",
    "- Search open and closed [GitHub issues](https://github.com/popsim-consortium/stdpopsim/issues?q=is%3Aissue)\n",
    "- Write a new [GitHub issue](https://github.com/popsim-consortium/stdpopsim/issues/new/choose)\n",
    "- Join the PopSim Slack workspace and post in the #newbie-help channel (An invitation has been sent to all participants. If you have not recieved an invitation, email Ariella, Andy, or Peter)"
   ]
  },
  {
   "cell_type": "markdown",
   "metadata": {},
   "source": [
    "---------\n",
    "## 7. Some examples of what stdpopsim cannot currently do\n",
    "- simulate species or demographic models that are not in the catalog \n",
    "    - if you want to do this, if it is a published model - submit it to stdpopsim, if it is not a published model, use a simulator (e.g. msprime, slim)\n",
    "- simulate parameter values not from the published model (including priors)\n",
    "- simulate selection (in the works!)\n",
    "- simulate missing data and errors (on the horizon!)\n"
   ]
  },
  {
   "cell_type": "markdown",
   "metadata": {},
   "source": [
    "----------\n",
    "## 8. Teaser of [how to contribute](https://stdpopsim.readthedocs.io/en/stable/development.html#)\n",
    "\n",
    "- Write [GitHub issues](https://github.com/popsim-consortium/stdpopsim/issues/new/choose)!\n",
    "- [Add new species](https://stdpopsim.readthedocs.io/en/stable/development.html#adding-a-new-species)\n",
    "- [Add new demographic models](https://stdpopsim.readthedocs.io/en/stable/development.html#adding-a-new-demographic-model)\n",
    "- Help with Documentation and tutorials"
   ]
  },
  {
   "cell_type": "markdown",
   "metadata": {},
   "source": [
    "-----------\n",
    "## 9. Using stdpopsim on your own after the workshop\n",
    "- Play in a Jupyter Notebook Binder\n",
    "  - Using this one [![Binder](https://mybinder.org/badge_logo.svg)](https://mybinder.org/v2/gh/popsim-consortium/workshops.git/main?filepath=intro_stdpopsim%2FIntro_stdpopsim.ipynb)\n",
    "  - In the Binder associated with the [stdpopsim GitHub repository](https://github.com/popsim-consortium/stdpopsim) [![Binder](https://mybinder.org/badge_logo.svg)](https://mybinder.org/v2/gh/popsim-consortium/stdpopsim/master?filepath=stdpopsim_example.ipynb)\n",
    "- Install stdpopsim locally following the [instructions in the documentation](https://stdpopsim.readthedocs.io/en/stable/installation.html)\n",
    "- Consult the [stdpopsim documentation](https://stdpopsim.readthedocs.io/en/stable/installation.html)"
   ]
  },
  {
   "cell_type": "markdown",
   "metadata": {},
   "source": [
    "---------\n",
    "## 10. How to Navigate the [stdpopsim library catalog](https://stdpopsim.readthedocs.io/en/stable/catalog.html)\n",
    "\n",
    "### The Catalog is organized first by species.\n",
    "\n",
    "_How many species are there?_\n",
    "\n",
    "![](images/catalog.png)\n"
   ]
  },
  {
   "cell_type": "markdown",
   "metadata": {},
   "source": [
    "### Each species has a set of defining attributes. \n",
    "\n",
    "_What are the attributes?_\n",
    "\n",
    "![](images/species_attributes.png)"
   ]
  },
  {
   "cell_type": "markdown",
   "metadata": {},
   "source": [
    "### Each species has defined genome parameters.\n",
    "\n",
    "_What are the genome parameters?_\n",
    "\n",
    "![](images/genome_params.png)"
   ]
  },
  {
   "cell_type": "markdown",
   "metadata": {},
   "source": [
    "### Some species have a genetic map.\n",
    "\n",
    "Genetic maps are stored on AWS and downloaded to cache when used.\n",
    "\n",
    "![](images/genetic_maps.png)"
   ]
  },
  {
   "cell_type": "markdown",
   "metadata": {},
   "source": [
    "### Some species have demographic models.\n",
    "\n",
    "All models are from published models.\n",
    "\n",
    "_What models are available? Are there any you recognize from the literature?_\n",
    "\n",
    "![](images/models.png)"
   ]
  },
  {
   "cell_type": "markdown",
   "metadata": {},
   "source": [
    "### Each model has a description and set of defining attributes. \n",
    "\n",
    "_What are the attributes?_\n",
    "\n",
    "![](images/model_attr.png)"
   ]
  },
  {
   "cell_type": "markdown",
   "metadata": {},
   "source": [
    "### Each model has a table of defined model parameters from the publication. \n",
    "\n",
    "_Can you find where in the original publication the model parameters are given?_\n",
    "\n",
    "![](images/model_params.png)"
   ]
  }
 ],
 "metadata": {
  "celltoolbar": "Edit Metadata",
  "kernelspec": {
   "display_name": "Python 3",
   "language": "python",
   "name": "python3"
  },
  "language_info": {
   "codemirror_mode": {
    "name": "ipython",
    "version": 3
   },
   "file_extension": ".py",
   "mimetype": "text/x-python",
   "name": "python",
   "nbconvert_exporter": "python",
   "pygments_lexer": "ipython3",
   "version": "3.9.2"
  }
 },
 "nbformat": 4,
 "nbformat_minor": 4
}
